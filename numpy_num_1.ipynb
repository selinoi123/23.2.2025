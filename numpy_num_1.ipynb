{
 "cells": [
  {
   "cell_type": "code",
   "execution_count": 1,
   "id": "4bafe62e",
   "metadata": {},
   "outputs": [],
   "source": [
    "import numpy as np"
   ]
  },
  {
   "cell_type": "code",
   "execution_count": 25,
   "id": "4c2c1603",
   "metadata": {},
   "outputs": [
    {
     "name": "stdout",
     "output_type": "stream",
     "text": [
      "[ 1  2  3  4  5  6  7  8  9 10]\n",
      "\n",
      "[0.5  0.75 1.   1.25 1.5  1.75 2.   2.25 2.5  2.75 3.   3.25 3.5  3.75\n",
      " 4.   4.25 4.5  4.75]\n"
     ]
    }
   ],
   "source": [
    "#1a\n",
    "print(np.arange(1, 10+1))          \n",
    "print()\n",
    "#1b\n",
    "print(np.arange(0.5, 5, 0.25))"
   ]
  },
  {
   "cell_type": "code",
   "execution_count": 26,
   "id": "89631716",
   "metadata": {},
   "outputs": [
    {
     "name": "stdout",
     "output_type": "stream",
     "text": [
      "[0 0 0 0 0 0 0 0 0 0]\n",
      "\n",
      "[[0 0 0]\n",
      " [0 0 0]\n",
      " [0 0 0]\n",
      " [0 0 0]]\n"
     ]
    }
   ],
   "source": [
    "#2a\n",
    "print(np.zeros(10, dtype = int))\n",
    "print()\n",
    "#2b\n",
    "print(np.zeros((4, 3), dtype = int))"
   ]
  },
  {
   "cell_type": "code",
   "execution_count": 27,
   "id": "fa8c5e05",
   "metadata": {},
   "outputs": [
    {
     "name": "stdout",
     "output_type": "stream",
     "text": [
      "[ 2  4  7  9 12]\n",
      "\n",
      "[3 5 7 9]\n"
     ]
    }
   ],
   "source": [
    "#3a\n",
    "print(np.linspace(2, 12, 5, dtype=int))\n",
    "print()\n",
    "#3b\n",
    "print(np.linspace(3, 9, 4, dtype=int))"
   ]
  },
  {
   "cell_type": "code",
   "execution_count": 30,
   "id": "3ccc46e1",
   "metadata": {},
   "outputs": [
    {
     "name": "stdout",
     "output_type": "stream",
     "text": [
      "[[0.73220118 0.48605189 0.29267364 0.602247  ]\n",
      " [0.67978269 0.25371442 0.7953569  0.05909754]]\n",
      "\n",
      "[[17.23223225 14.82740728 13.86857767]\n",
      " [15.82345868 18.46811035 11.72302973]\n",
      " [18.63470792 13.77373293 19.62987204]]\n"
     ]
    }
   ],
   "source": [
    "#4a\n",
    "random_array = np.random.uniform(0, 0.999, (2, 4))\n",
    "print(random_array)\n",
    "\n",
    "print()\n",
    "#4b\n",
    "random_array_2 = np.random.uniform(10, 20, (3, 3))\n",
    "print(random_array_2)"
   ]
  },
  {
   "cell_type": "code",
   "execution_count": 31,
   "id": "b8064ec1",
   "metadata": {},
   "outputs": [
    {
     "name": "stdout",
     "output_type": "stream",
     "text": [
      "[[0.73220118]\n",
      " [0.48605189]\n",
      " [0.29267364]\n",
      " [0.602247  ]\n",
      " [0.67978269]\n",
      " [0.25371442]\n",
      " [0.7953569 ]\n",
      " [0.05909754]]\n"
     ]
    }
   ],
   "source": [
    "reshaped_array = random_array.reshape(8, 1)\n",
    "print(reshaped_array)\n",
    "\n",
    "# שסך הכל האיברים צריך להיות תואם reshape צריך לשים לב שמשתמשים בפעולת \n",
    "# כלומר אם בהתחלה הסדר היה 2 על 4 שסהכ 8 איברים אז בעת שינוי צריך שהסדר יהיה תואם למספר האיברים"
   ]
  },
  {
   "cell_type": "code",
   "execution_count": null,
   "id": "cf8773eb",
   "metadata": {},
   "outputs": [],
   "source": [
    "#5\n",
    "# תוך שימוש ב נקבל תמיד את אותם מספרים האקראיים בכל הרצה, וזה עוזר לשחזור וניסויים.  seed   "
   ]
  }
 ],
 "metadata": {
  "kernelspec": {
   "display_name": "Python 3 (ipykernel)",
   "language": "python",
   "name": "python3"
  },
  "language_info": {
   "codemirror_mode": {
    "name": "ipython",
    "version": 3
   },
   "file_extension": ".py",
   "mimetype": "text/x-python",
   "name": "python",
   "nbconvert_exporter": "python",
   "pygments_lexer": "ipython3",
   "version": "3.11.5"
  }
 },
 "nbformat": 4,
 "nbformat_minor": 5
}
